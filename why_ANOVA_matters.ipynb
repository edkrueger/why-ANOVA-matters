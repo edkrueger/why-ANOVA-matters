{
 "cells": [
  {
   "cell_type": "code",
   "execution_count": 1,
   "metadata": {},
   "outputs": [],
   "source": [
    "import numpy as np\n",
    "from scipy.stats import ttest_ind"
   ]
  },
  {
   "cell_type": "code",
   "execution_count": 2,
   "metadata": {},
   "outputs": [],
   "source": [
    "def sample():\n",
    "    \"\"\"\n",
    "    Draws a sample of 100 independent observations from the same population.\n",
    "    In this case, the true population is standard normal.\n",
    "    \"\"\"\n",
    "    return np.random.normal(size=100)"
   ]
  },
  {
   "cell_type": "markdown",
   "metadata": {},
   "source": [
    "# Explaination of Significance"
   ]
  },
  {
   "cell_type": "code",
   "execution_count": 3,
   "metadata": {},
   "outputs": [],
   "source": [
    "def do_pairwise_t_test():\n",
    "    \"\"\"\n",
    "    Draws two independent samples form the population and performs an independent t-test.\n",
    "    The t-test checks if the means of the samples are statistically different.\n",
    "    Returns True if the null is rejected; if the samples have statistically different means.\n",
    "    The significance level of the test is .05.\n",
    "    \"\"\"\n",
    "    \n",
    "    sample_1 = sample()\n",
    "    sample_2 = sample()\n",
    "\n",
    "    p_value = ttest_ind(sample_1, sample_2).pvalue\n",
    "\n",
    "    return p_value < .05"
   ]
  },
  {
   "cell_type": "markdown",
   "metadata": {},
   "source": [
    "Running 1000 t-tests on 1000 pairs of data drawn from the same distribution with significance level of .05, we should expect that approximately 50 false positives and a empirical false positive rate (FPR) of about .05."
   ]
  },
  {
   "cell_type": "code",
   "execution_count": 4,
   "metadata": {},
   "outputs": [
    {
     "name": "stdout",
     "output_type": "stream",
     "text": [
      "49\n",
      "0.049\n"
     ]
    }
   ],
   "source": [
    "num_trials = 1000\n",
    "results = [do_pairwise_t_test() for _ in range(num_trials)]\n",
    "\n",
    "num_false_positives = results.count(True)\n",
    "empirical_FPR = num_false_positives / num_trials\n",
    "\n",
    "print(num_false_positives)\n",
    "print(empirical_FPR)"
   ]
  }
 ],
 "metadata": {
  "kernelspec": {
   "display_name": "Python 3",
   "language": "python",
   "name": "python3"
  },
  "language_info": {
   "codemirror_mode": {
    "name": "ipython",
    "version": 3
   },
   "file_extension": ".py",
   "mimetype": "text/x-python",
   "name": "python",
   "nbconvert_exporter": "python",
   "pygments_lexer": "ipython3",
   "version": "3.6.7"
  }
 },
 "nbformat": 4,
 "nbformat_minor": 2
}
